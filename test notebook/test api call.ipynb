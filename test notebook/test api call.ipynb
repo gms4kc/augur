{
 "cells": [
  {
   "cell_type": "code",
   "execution_count": 14,
   "id": "ab6fd449",
   "metadata": {},
   "outputs": [],
   "source": [
    "import requests"
   ]
  },
  {
   "cell_type": "code",
   "execution_count": 15,
   "id": "e14b444d",
   "metadata": {},
   "outputs": [],
   "source": [
    "req = requests.get('https://gitlab.com/api/v4/users?search=brossn7@gmail.com', headers = {'private-token': 'zUpFd1JbsEYPdFL21kXK'})"
   ]
  },
  {
   "cell_type": "code",
   "execution_count": 17,
   "id": "81e20656",
   "metadata": {},
   "outputs": [
    {
     "name": "stdout",
     "output_type": "stream",
     "text": [
      "[{'id': 8287974, 'name': 'Brian Ross', 'username': 'BDRoss', 'state': 'active', 'avatar_url': 'https://secure.gravatar.com/avatar/a16edf49de7d53bcf4610919b2135ca3?s=80&d=identicon', 'web_url': 'https://gitlab.com/BDRoss'}]\n"
     ]
    }
   ],
   "source": [
    "print(req.json())"
   ]
  },
  {
   "cell_type": "code",
   "execution_count": null,
   "id": "c79d24bb",
   "metadata": {},
   "outputs": [],
   "source": []
  }
 ],
 "metadata": {
  "kernelspec": {
   "display_name": "Python 3",
   "language": "python",
   "name": "python3"
  },
  "language_info": {
   "codemirror_mode": {
    "name": "ipython",
    "version": 3
   },
   "file_extension": ".py",
   "mimetype": "text/x-python",
   "name": "python",
   "nbconvert_exporter": "python",
   "pygments_lexer": "ipython3",
   "version": "3.9.0"
  }
 },
 "nbformat": 4,
 "nbformat_minor": 5
}
