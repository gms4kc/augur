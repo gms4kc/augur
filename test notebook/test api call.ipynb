{
 "cells": [
  {
   "cell_type": "markdown",
   "id": "e61bbb3a",
   "metadata": {},
   "source": [
    "Requires urllib2"
   ]
  },
  {
   "cell_type": "code",
   "execution_count": 6,
   "id": "ab6fd449",
   "metadata": {},
   "outputs": [],
   "source": [
    "import requests"
   ]
  },
  {
   "cell_type": "markdown",
   "id": "272c56a1",
   "metadata": {},
   "source": [
    "Using requests library, make call to the GitLab API"
   ]
  },
  {
   "cell_type": "markdown",
   "id": "2d6d31d5",
   "metadata": {},
   "source": [
    "Currently, the test api call is using my(Brian) credentials, with my personal email and access token."
   ]
  },
  {
   "cell_type": "code",
   "execution_count": 7,
   "id": "e14b444d",
   "metadata": {},
   "outputs": [],
   "source": [
    "req = requests.get('https://gitlab.com/api/v4/users?search=brossn7@gmail.com', headers = {'private-token': 'zUpFd1JbsEYPdFL21kXK'})"
   ]
  },
  {
   "cell_type": "markdown",
   "id": "9f7eb3af",
   "metadata": {},
   "source": [
    "We can now print the get status code.  This should be 200 (OK), if it's something else you'll need to refer to the gitlab api status codes to resolve the error."
   ]
  },
  {
   "cell_type": "code",
   "execution_count": 8,
   "id": "a612dab6",
   "metadata": {},
   "outputs": [
    {
     "name": "stdout",
     "output_type": "stream",
     "text": [
      "<Response [200]>\n"
     ]
    }
   ],
   "source": [
    "print(req)"
   ]
  },
  {
   "cell_type": "markdown",
   "id": "d24e8815",
   "metadata": {},
   "source": [
    "Data is returned as json file, this can be printed or used as necessary.  Note my own information is output below."
   ]
  },
  {
   "cell_type": "code",
   "execution_count": 9,
   "id": "81e20656",
   "metadata": {},
   "outputs": [
    {
     "name": "stdout",
     "output_type": "stream",
     "text": [
      "[{'id': 8287974, 'name': 'Brian Ross', 'username': 'BDRoss', 'state': 'active', 'avatar_url': 'https://secure.gravatar.com/avatar/a16edf49de7d53bcf4610919b2135ca3?s=80&d=identicon', 'web_url': 'https://gitlab.com/BDRoss'}]\n"
     ]
    }
   ],
   "source": [
    "print(req.json())"
   ]
  }
 ],
 "metadata": {
  "kernelspec": {
   "display_name": "Python 3",
   "language": "python",
   "name": "python3"
  },
  "language_info": {
   "codemirror_mode": {
    "name": "ipython",
    "version": 3
   },
   "file_extension": ".py",
   "mimetype": "text/x-python",
   "name": "python",
   "nbconvert_exporter": "python",
   "pygments_lexer": "ipython3",
   "version": "3.9.0"
  }
 },
 "nbformat": 4,
 "nbformat_minor": 5
}
