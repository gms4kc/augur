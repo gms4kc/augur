{
 "cells": [
  {
   "cell_type": "markdown",
   "id": "2e995740",
   "metadata": {},
   "source": [
    "# Sprint 4 - Integrating Our Project With Existing Augur Schema"
   ]
  },
  {
   "cell_type": "markdown",
   "id": "f6dbb1bf",
   "metadata": {},
   "source": [
    "For sprint 4, we took our working prototype code and integrated it with the schema that Sean provided for us on Slack.  This schema's creation sql code is in a separate file in this repository.  We also moved all the necessary credentials to a config.json file for greater portability, and handled errors where an email address doesn't exist in the data being used, or when there is no GitLab account and thus the api call returns an empty JSON object."
   ]
  },
  {
   "cell_type": "markdown",
   "id": "0ba3ec5f",
   "metadata": {},
   "source": [
    "Very important note: When trying to create the \"contributors\" table on the augur-community-reports server's augur_osshealth database, we received an error when attempting to access the schema \"sean\", as it appears to be owned by augur, while the only credentials we have access to are that of chaoss - This allows us to view what we need, but not make any changes.  For that reason, we created a local database with the same schema, imported the data from the \"contributors\" table that already exists at augur-community-reports, and ran this code against that."
   ]
  },
  {
   "cell_type": "markdown",
   "id": "5be79910",
   "metadata": {},
   "source": [
    "## Library imports\n",
    "\n",
    "Nothing crazy here. Import necessary libraries.  psycopg2 handles python-database calls, requests and json handle the api calls."
   ]
  },
  {
   "cell_type": "code",
   "execution_count": 1,
   "id": "c44a1d12",
   "metadata": {},
   "outputs": [],
   "source": [
    "import psycopg2\n",
    "import requests\n",
    "import json"
   ]
  },
  {
   "cell_type": "markdown",
   "id": "a4c52da0",
   "metadata": {},
   "source": [
    "## Connecting to a database\n",
    "\n",
    "First we need to connect to our database.  We create an instance called conn with the necessary details - this could be updated to read from a config file in the future.  Then psycopg2 requires we set up a cursor.  Then we execute a query to pull all the rows from the gitlab database.\n",
    "\n",
    "#### The database connection is now handled via config file instead of hardcoded as it was before.  This should allow for greater portability and security, while avoiding something sloppier like leaving relevant details as [INSERT YOUR HOST HERE]\n",
    "\n",
    "The config file also includes the auth token from gitlab necessary to make the API calls.  I have left my own personal code in this repository for the purposes of this project/demo, but for obvious reasons this token will not be valid forever."
   ]
  },
  {
   "cell_type": "code",
   "execution_count": 2,
   "id": "b1b63cf5",
   "metadata": {
    "scrolled": true
   },
   "outputs": [],
   "source": [
    "with open(\"config.json\") as config_file:\n",
    "    config = json.load(config_file)\n",
    "\n",
    "\n",
    "\n",
    "conn = psycopg2.connect(host=config['host'], port = config['port'], database=config['database'], user=config['user'], password=config['password'])\n",
    "cur = conn.cursor()\n",
    "cur.execute(\"SELECT contributors.cntrb_email, contributors.gitlab_username, contributors.gitlab_id FROM sean.contributors;\")\n",
    "tuples = cur.fetchall()"
   ]
  },
  {
   "cell_type": "markdown",
   "id": "36e9fa8b",
   "metadata": {},
   "source": [
    "## Iteration and the API call\n",
    "\n",
    "Next we set up a function APIcall to...you guessed it, make the api call.  The call still functions the way we showed in our prototype in sprint 2, however we've worked to avoid hardcoding anything here.  All print statements used for testing have been left in, just in case further testing is required.  They have been commented out however, as the augur sample data we have has something like 3700 tuples, and that seemed excessive to print to the console.  If there is no email address found in the contributor table somehow, we just skip that entry.  Similarly, if there exists no GitLab account for the provided email address, GitLab returns \"[]\", which provides errors when the program is expecting a full JSON object.  Our code now checks the length of the returned object and if it doesn't have a length, it just returns a null object where (id, username) would be."
   ]
  },
  {
   "cell_type": "code",
   "execution_count": null,
   "id": "6fa1053d",
   "metadata": {},
   "outputs": [
    {
     "name": "stdout",
     "output_type": "stream",
     "text": [
      "Now updating table.  Depending on the size of your database, this may take a while.  Make a cup of tea.\n",
      "\n"
     ]
    }
   ],
   "source": [
    "def APIcall(email):\n",
    "    baseurl = 'https://gitlab.com/api/v4/users?search='\n",
    "    url = ''.join([baseurl, email])\n",
    "    req = requests.get(url, headers = {'private-token': config['gitlab_token']})\n",
    "    if (req.status_code == 401):\n",
    "        return None;\n",
    "    \n",
    "    #print(req.json())\n",
    "    #print(\"\\n\\n\\n\")\n",
    "    j = req.json()\n",
    "    if (len(j) == 0):\n",
    "        #print(\"\\nEmpty response!\\n\")\n",
    "        data = (None, None)\n",
    "        return data\n",
    "    else:\n",
    "        #print(email)\n",
    "        #print(j[0][\"name\"])\n",
    "        #print(j[0][\"id\"])\n",
    "        #return j[0][\"username\"]\n",
    "        data = (j[0][\"id\"], j[0][\"username\"])\n",
    "        #return j[0][\"id\"]\n",
    "        return data\n",
    "\n",
    "print(\"Now updating table.  Depending on the size of your database, this may take a while.  Make a cup of tea.\\n\")\n",
    "for i in tuples:\n",
    "    x = i\n",
    "    (email, user, labID) = x\n",
    "    if (email == None):\n",
    "        #print(\"\\nEmail cannot be null!\\n\")\n",
    "        pass\n",
    "    elif (labID != None):\n",
    "        #print(\"\\nGitLabID found!\\n\")\n",
    "        pass\n",
    "    \n",
    "    else:\n",
    "        data = APIcall(email)\n",
    "        if (data == None):\n",
    "            print(\"GitLab returned status code 401 - Unauthorized.  Please make sure you are using a valid authorization token for GitLab.\\n\")\n",
    "            print(\"The following line will tell you the update is complete.  This is a lie, as you didn't have permission to access GitLab's API.\\n\")\n",
    "            break\n",
    "        else:\n",
    "            ID = data[0]\n",
    "            user = data[1]\n",
    "            #sql = \"UPDATE gitLab SET gitlabid = \" + ID + \" WHERE cont_email = %s\"\n",
    "            #email = \"'\" + email + \"'\"\n",
    "            #cur.execute(sql, email)\n",
    "            cur.execute(\"UPDATE sean.contributors SET gitlab_username = %s, gitlab_id = %s WHERE cntrb_email = %s\", (user, ID, email))\n",
    "print(\"\\nUpdate complete!  Enjoy your updated table, now featuring gitlab identification!\")"
   ]
  },
  {
   "cell_type": "markdown",
   "id": "cdd1446c",
   "metadata": {},
   "source": [
    "###### To be honest, I wanted to draw a progress bar, or a spinning cursor here, but it's a little late to be diving into something new on what is basically a whim.  I also wasn't sure if it would be compatible with the output in Jupyter."
   ]
  },
  {
   "cell_type": "markdown",
   "id": "4b436fdb",
   "metadata": {},
   "source": [
    "## Wrapping up and closing loose ends\n",
    "\n",
    "After all that, we call conn.commit() to make our changes to the database, then we close our cursor and connection to the database."
   ]
  },
  {
   "cell_type": "code",
   "execution_count": null,
   "id": "3c6ac998",
   "metadata": {},
   "outputs": [],
   "source": [
    "conn.commit()\n",
    "cur.close()\n",
    "conn.close()"
   ]
  }
 ],
 "metadata": {
  "kernelspec": {
   "display_name": "Python 3",
   "language": "python",
   "name": "python3"
  },
  "language_info": {
   "codemirror_mode": {
    "name": "ipython",
    "version": 3
   },
   "file_extension": ".py",
   "mimetype": "text/x-python",
   "name": "python",
   "nbconvert_exporter": "python",
   "pygments_lexer": "ipython3",
   "version": "3.9.0"
  }
 },
 "nbformat": 4,
 "nbformat_minor": 5
}
