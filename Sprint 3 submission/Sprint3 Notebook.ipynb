{
 "cells": [
  {
   "cell_type": "markdown",
   "id": "2e995740",
   "metadata": {},
   "source": [
    "# Sprint 3 - Interacting with data and the GitLab API"
   ]
  },
  {
   "cell_type": "markdown",
   "id": "f6dbb1bf",
   "metadata": {},
   "source": [
    "In this notebook, we will be accessing a test database populated with test data fields, isolating the email, checking if there is an existing GitLab ID associated with it, and making an API call to GitLab if no such ID is found.  We will then update our database with the ID."
   ]
  },
  {
   "cell_type": "markdown",
   "id": "0ba3ec5f",
   "metadata": {},
   "source": [
    "----NOTE, need to write sql to reset database everytime we run for testing----\n",
    "\n",
    "----if exists, drop table, etc----"
   ]
  },
  {
   "cell_type": "markdown",
   "id": "3d3da944",
   "metadata": {},
   "source": [
    "### First make sure you have postgres running with the supplied database.  Schema still needs updated to match augur"
   ]
  },
  {
   "cell_type": "markdown",
   "id": "fec2aff0",
   "metadata": {},
   "source": [
    "Below is some code I copy+pasted out of my pgadmin GUI, but I built everything using the GUI, so I haven't tested this yet.  I was having difficulty trying to export my database, so I figured it would be best to just run this to build it for yourselves.\n",
    "\n",
    "This can be run in your database manager of choice as SQL - To run in this notebook would require further use of the psycopg2 library, which would end up messier than necessary for this stage.\n",
    "\n",
    "The SQL code below creates the \"augurTest\" databse that is owned by default by postgres.  In the python code below, you will need to enter credentials for whichever user is intended to read and make changes to the database.  This is the only thing that will need changed from machine to machine, and as long as you have the dependencies this shouldn run smoothly.  Feel free to add other email addresses!"
   ]
  },
  {
   "cell_type": "markdown",
   "id": "3767fc92",
   "metadata": {},
   "source": [
    "CREATE DATABASE \"augurTest\"\n",
    "    WITH \n",
    "    OWNER = postgres\n",
    "    ENCODING = 'UTF8'\n",
    "    LC_COLLATE = 'English_United States.1252'\n",
    "    LC_CTYPE = 'English_United States.1252'\n",
    "    TABLESPACE = pg_default\n",
    "    CONNECTION LIMIT = -1;\n",
    "\n",
    "ALTER ROLE postgres IN DATABASE \"augurTest\"\n",
    "    SET search_path TO public;\n",
    "\n",
    "CREATE TABLE public.gitlab\n",
    "(\n",
    "    cont_email character varying COLLATE pg_catalog.\"default\" NOT NULL,\n",
    "    gitlabid integer,\n",
    "    gituser character varying COLLATE pg_catalog.\"default\",\n",
    "    CONSTRAINT gitlab_pkey PRIMARY KEY (cont_email)\n",
    ");\n",
    "\n",
    "TABLESPACE pg_default;\n",
    "\n",
    "ALTER TABLE public.gitlab\n",
    "    OWNER to postgres;\n",
    "    \n",
    "INSERT INTO gitlab (cont_email) VALUES ('brossn7@gmail.com'), ('briantheogre@gmail.com'), ('gms4kc@umsystem.edu');"
   ]
  },
  {
   "cell_type": "markdown",
   "id": "5be79910",
   "metadata": {},
   "source": [
    "Import necessary libraries.  psycopg2 handles python-database calls, requests and json handle the api calls."
   ]
  },
  {
   "cell_type": "code",
   "execution_count": 1,
   "id": "c44a1d12",
   "metadata": {},
   "outputs": [],
   "source": [
    "import psycopg2\n",
    "import requests\n",
    "import json"
   ]
  },
  {
   "cell_type": "markdown",
   "id": "a4c52da0",
   "metadata": {},
   "source": [
    "First we need to connect to our database.  We create an instance called conn with the necessary details - this could be updated to read from a config file in the future.  Then psycopg2 requires we set up a cursor.  Then we execute a query to pull all the rows from the gitlab database.  This is a temporary way to pull sample data in, as we couldn't access the sample databases provided by Goggins, and this would end up pulling probably more data than we want in full production.\n",
    "\n",
    "## THE CREDENTIALS BELOW APPLY TO MY LOCAL SYSTEM.  \n",
    "## You will likely want to provide your own password, at the very least. "
   ]
  },
  {
   "cell_type": "code",
   "execution_count": 2,
   "id": "78f5b32b",
   "metadata": {},
   "outputs": [
    {
     "name": "stdout",
     "output_type": "stream",
     "text": [
      "[('brossn7@gmail.com', None, None), ('briantheogre@gmail.com', None, None), ('gms4kc@umsystem.edu', None, None)]\n"
     ]
    }
   ],
   "source": [
    "conn = psycopg2.connect(host=\"localhost\", port = 5432, database=\"augurTest\", user=\"postgres\", password=\"badpassword\")\n",
    "cur = conn.cursor()\n",
    "cur.execute(\"SELECT * FROM gitLab\")\n",
    "tuples = cur.fetchall()\n",
    "print(tuples)"
   ]
  },
  {
   "cell_type": "markdown",
   "id": "36e9fa8b",
   "metadata": {},
   "source": [
    "Next we set up a function APIcall to...you guessed it, make the api call.  The call still functions the way we showed in our prototype in sprint 2, however we've worked to avoid hardcoding anything here.  You'll notice a lot of print statements that aren't fully necessary but were great for testing.  The function accepts an email address pulled from our database and returns a list with the api-returned id # and gitlab username."
   ]
  },
  {
   "cell_type": "code",
   "execution_count": 3,
   "id": "6fa1053d",
   "metadata": {},
   "outputs": [
    {
     "name": "stdout",
     "output_type": "stream",
     "text": [
      "\n",
      "\n",
      "\n",
      "\n",
      "brossn7@gmail.com\n",
      "Brian Ross\n",
      "8287974\n",
      "\n",
      "\n",
      "\n",
      "\n",
      "briantheogre@gmail.com\n",
      "Brian Ross\n",
      "8287974\n",
      "\n",
      "\n",
      "\n",
      "\n",
      "gms4kc@umsystem.edu\n",
      "Genevieve Saab\n",
      "8280906\n"
     ]
    }
   ],
   "source": [
    "def APIcall(email):\n",
    "    baseurl = 'https://gitlab.com/api/v4/users?search='\n",
    "    url = ''.join([baseurl, email])\n",
    "    req = requests.get(url, headers = {'private-token': 'zUpFd1JbsEYPdFL21kXK'})\n",
    "    \n",
    "\n",
    "    #print(req.json())\n",
    "    print(\"\\n\\n\\n\")\n",
    "    j = req.json()\n",
    "    print(email)\n",
    "    print(j[0][\"name\"])\n",
    "    print(j[0][\"id\"])\n",
    "    #return j[0][\"username\"]\n",
    "    data = (j[0][\"id\"], j[0][\"username\"])\n",
    "    #return j[0][\"id\"]\n",
    "    return data\n",
    "\n",
    "\n",
    "for i in tuples:\n",
    "    x = i\n",
    "    (email, labID, user) = x\n",
    "    if (labID != None):\n",
    "        print(\"GitLabID found!\")\n",
    "    \n",
    "    else:\n",
    "        data = APIcall(email)\n",
    "        ID = data[0]\n",
    "        user = data[1]\n",
    "        #sql = \"UPDATE gitLab SET gitlabid = \" + ID + \" WHERE cont_email = %s\"\n",
    "        #email = \"'\" + email + \"'\"\n",
    "        #cur.execute(sql, email)\n",
    "        cur.execute(\"UPDATE gitLab SET gituser = %s, gitlabid = %s WHERE cont_email = %s\", (user, ID, email))\n",
    "    "
   ]
  },
  {
   "cell_type": "markdown",
   "id": "4b436fdb",
   "metadata": {},
   "source": [
    "After all that, we call conn.commit() to make our changes to the database, then we close our cursor and connection to the database."
   ]
  },
  {
   "cell_type": "code",
   "execution_count": 4,
   "id": "3c6ac998",
   "metadata": {},
   "outputs": [],
   "source": [
    "#One final test if database updated\n",
    "#cur.execute(\"SELECT * FROM gitLab\")\n",
    "#tuples = cur.fetchall()\n",
    "#print(tuples)\n",
    "\n",
    "conn.commit()\n",
    "cur.close()\n",
    "conn.close()"
   ]
  },
  {
   "cell_type": "code",
   "execution_count": null,
   "id": "9629e565",
   "metadata": {},
   "outputs": [],
   "source": []
  },
  {
   "cell_type": "code",
   "execution_count": null,
   "id": "174b6358",
   "metadata": {},
   "outputs": [],
   "source": []
  },
  {
   "cell_type": "code",
   "execution_count": null,
   "id": "7efd6f8b",
   "metadata": {},
   "outputs": [],
   "source": []
  }
 ],
 "metadata": {
  "kernelspec": {
   "display_name": "Python 3",
   "language": "python",
   "name": "python3"
  },
  "language_info": {
   "codemirror_mode": {
    "name": "ipython",
    "version": 3
   },
   "file_extension": ".py",
   "mimetype": "text/x-python",
   "name": "python",
   "nbconvert_exporter": "python",
   "pygments_lexer": "ipython3",
   "version": "3.9.0"
  }
 },
 "nbformat": 4,
 "nbformat_minor": 5
}
